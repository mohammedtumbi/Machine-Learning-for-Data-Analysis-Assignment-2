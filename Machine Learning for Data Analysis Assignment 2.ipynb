{
 "cells": [
  {
   "cell_type": "markdown",
   "metadata": {},
   "source": [
    "Assignment 2- Machine Learning for Data Analysis\n",
    "======"
   ]
  },
  {
   "cell_type": "markdown",
   "metadata": {},
   "source": [
    "Description of Dataset\n",
    "----"
   ]
  },
  {
   "cell_type": "markdown",
   "metadata": {},
   "source": [
    "## Source ##\n",
    "For this assignment the Statlog (Heart) Data Set ([Link](https://archive.ics.uci.edu/ml/datasets/Statlog+%28Heart%29)) obtained from [UCI Machine Learning Repository](https://archive.ics.uci.edu/ml/datasets.html) is used. \n"
   ]
  },
  {
   "cell_type": "markdown",
   "metadata": {},
   "source": [
    "## Description\n",
    "### Attribute Information:\n",
    " 1. age\n",
    " 2. sex\n",
    " 3. chest pain type  (4 values)\n",
    " 4. resting blood pressure\n",
    " 5. serum cholestoral in mg/dl\n",
    " 6. fasting blood sugar > 120 mg/dl\n",
    " 7. resting electrocardiographic results  (values 0,1,2)\n",
    " 8. maximum heart rate achieved\n",
    " 9. exercise induced angina\n",
    " 10. oldpeak = ST depression induced by exercise relative to rest\n",
    " 11. the slope of the peak exercise ST segment\n",
    " 12. number of major vessels (0-3) colored by flourosopy\n",
    " 13. thal: 3 = normal; 6 = fixed defect; 7 = reversable defect\n",
    " \n",
    "### Variable to be predicted\n",
    "Absence (1) or presence (2) of heart disease\n",
    "\n",
    "# Code"
   ]
  },
  {
   "cell_type": "code",
   "execution_count": 19,
   "metadata": {
    "collapsed": false
   },
   "outputs": [],
   "source": [
    "#Importing Pandas\n",
    "from pandas import Series, DataFrame\n",
    "import pandas as pd\n",
    "\n",
    "#Importing NumPy\n",
    "import numpy as np\n",
    "\n",
    "# Matplotlib to plot\n",
    "import matplotlib.pylab as plt\n",
    "\n",
    "#Importing sklearn \n",
    "from sklearn.cross_validation import train_test_split\n",
    "from sklearn.tree import DecisionTreeClassifier\n",
    "from sklearn.metrics import classification_report\n",
    "import sklearn.metrics\n",
    "from sklearn.ensemble import ExtraTreesClassifier\n",
    "%matplotlib inline"
   ]
  },
  {
   "cell_type": "markdown",
   "metadata": {},
   "source": [
    "Reading the dataset as raw_data as assigning names of attributes to each coloumn. Also visualising at top five rows of the data. "
   ]
  },
  {
   "cell_type": "code",
   "execution_count": 2,
   "metadata": {
    "collapsed": false
   },
   "outputs": [
    {
     "data": {
      "text/html": [
       "<div>\n",
       "<table border=\"1\" class=\"dataframe\">\n",
       "  <thead>\n",
       "    <tr style=\"text-align: right;\">\n",
       "      <th></th>\n",
       "      <th>age</th>\n",
       "      <th>sex</th>\n",
       "      <th>chestPainType</th>\n",
       "      <th>RestBP</th>\n",
       "      <th>SerumCholesterol</th>\n",
       "      <th>FastingBP</th>\n",
       "      <th>RestingECG</th>\n",
       "      <th>MaxHR</th>\n",
       "      <th>ExerciseInduceAgina</th>\n",
       "      <th>Oldepeak</th>\n",
       "      <th>SlopSTSegment</th>\n",
       "      <th>NoVessels</th>\n",
       "      <th>Thal</th>\n",
       "      <th>Result</th>\n",
       "    </tr>\n",
       "  </thead>\n",
       "  <tbody>\n",
       "    <tr>\n",
       "      <th>0</th>\n",
       "      <td>70.0</td>\n",
       "      <td>1.0</td>\n",
       "      <td>4.0</td>\n",
       "      <td>130.0</td>\n",
       "      <td>322.0</td>\n",
       "      <td>0.0</td>\n",
       "      <td>2.0</td>\n",
       "      <td>109.0</td>\n",
       "      <td>0.0</td>\n",
       "      <td>2.4</td>\n",
       "      <td>2.0</td>\n",
       "      <td>3.0</td>\n",
       "      <td>3.0</td>\n",
       "      <td>2</td>\n",
       "    </tr>\n",
       "    <tr>\n",
       "      <th>1</th>\n",
       "      <td>67.0</td>\n",
       "      <td>0.0</td>\n",
       "      <td>3.0</td>\n",
       "      <td>115.0</td>\n",
       "      <td>564.0</td>\n",
       "      <td>0.0</td>\n",
       "      <td>2.0</td>\n",
       "      <td>160.0</td>\n",
       "      <td>0.0</td>\n",
       "      <td>1.6</td>\n",
       "      <td>2.0</td>\n",
       "      <td>0.0</td>\n",
       "      <td>7.0</td>\n",
       "      <td>1</td>\n",
       "    </tr>\n",
       "    <tr>\n",
       "      <th>2</th>\n",
       "      <td>57.0</td>\n",
       "      <td>1.0</td>\n",
       "      <td>2.0</td>\n",
       "      <td>124.0</td>\n",
       "      <td>261.0</td>\n",
       "      <td>0.0</td>\n",
       "      <td>0.0</td>\n",
       "      <td>141.0</td>\n",
       "      <td>0.0</td>\n",
       "      <td>0.3</td>\n",
       "      <td>1.0</td>\n",
       "      <td>0.0</td>\n",
       "      <td>7.0</td>\n",
       "      <td>2</td>\n",
       "    </tr>\n",
       "    <tr>\n",
       "      <th>3</th>\n",
       "      <td>64.0</td>\n",
       "      <td>1.0</td>\n",
       "      <td>4.0</td>\n",
       "      <td>128.0</td>\n",
       "      <td>263.0</td>\n",
       "      <td>0.0</td>\n",
       "      <td>0.0</td>\n",
       "      <td>105.0</td>\n",
       "      <td>1.0</td>\n",
       "      <td>0.2</td>\n",
       "      <td>2.0</td>\n",
       "      <td>1.0</td>\n",
       "      <td>7.0</td>\n",
       "      <td>1</td>\n",
       "    </tr>\n",
       "    <tr>\n",
       "      <th>4</th>\n",
       "      <td>74.0</td>\n",
       "      <td>0.0</td>\n",
       "      <td>2.0</td>\n",
       "      <td>120.0</td>\n",
       "      <td>269.0</td>\n",
       "      <td>0.0</td>\n",
       "      <td>2.0</td>\n",
       "      <td>121.0</td>\n",
       "      <td>1.0</td>\n",
       "      <td>0.2</td>\n",
       "      <td>1.0</td>\n",
       "      <td>1.0</td>\n",
       "      <td>3.0</td>\n",
       "      <td>1</td>\n",
       "    </tr>\n",
       "  </tbody>\n",
       "</table>\n",
       "</div>"
      ],
      "text/plain": [
       "    age  sex  chestPainType  RestBP  SerumCholesterol  FastingBP  RestingECG  \\\n",
       "0  70.0  1.0            4.0   130.0             322.0        0.0         2.0   \n",
       "1  67.0  0.0            3.0   115.0             564.0        0.0         2.0   \n",
       "2  57.0  1.0            2.0   124.0             261.0        0.0         0.0   \n",
       "3  64.0  1.0            4.0   128.0             263.0        0.0         0.0   \n",
       "4  74.0  0.0            2.0   120.0             269.0        0.0         2.0   \n",
       "\n",
       "   MaxHR  ExerciseInduceAgina  Oldepeak  SlopSTSegment  NoVessels  Thal  \\\n",
       "0  109.0                  0.0       2.4            2.0        3.0   3.0   \n",
       "1  160.0                  0.0       1.6            2.0        0.0   7.0   \n",
       "2  141.0                  0.0       0.3            1.0        0.0   7.0   \n",
       "3  105.0                  1.0       0.2            2.0        1.0   7.0   \n",
       "4  121.0                  1.0       0.2            1.0        1.0   3.0   \n",
       "\n",
       "   Result  \n",
       "0       2  \n",
       "1       1  \n",
       "2       2  \n",
       "3       1  \n",
       "4       1  "
      ]
     },
     "execution_count": 2,
     "metadata": {},
     "output_type": "execute_result"
    }
   ],
   "source": [
    "raw_data = pd.read_csv(\"heart.dat\", delimiter=' ', names = [\"age\", \"sex\", \"chestPainType\", \"RestBP\", \"SerumCholesterol\", \"FastingBP\", \"RestingECG\", \"MaxHR\", \"ExerciseInduceAgina\", \"Oldepeak\", \"SlopSTSegment\", \"NoVessels\", \"Thal\", \"Result\"])\n",
    "\n",
    "raw_data.head()"
   ]
  },
  {
   "cell_type": "code",
   "execution_count": 3,
   "metadata": {
    "collapsed": false
   },
   "outputs": [
    {
     "data": {
      "text/html": [
       "<div>\n",
       "<table border=\"1\" class=\"dataframe\">\n",
       "  <thead>\n",
       "    <tr style=\"text-align: right;\">\n",
       "      <th></th>\n",
       "      <th>age</th>\n",
       "      <th>sex</th>\n",
       "      <th>chestPainType</th>\n",
       "      <th>RestBP</th>\n",
       "      <th>SerumCholesterol</th>\n",
       "      <th>FastingBP</th>\n",
       "      <th>RestingECG</th>\n",
       "      <th>MaxHR</th>\n",
       "      <th>ExerciseInduceAgina</th>\n",
       "      <th>Oldepeak</th>\n",
       "      <th>SlopSTSegment</th>\n",
       "      <th>NoVessels</th>\n",
       "      <th>Thal</th>\n",
       "      <th>Result</th>\n",
       "    </tr>\n",
       "  </thead>\n",
       "  <tbody>\n",
       "    <tr>\n",
       "      <th>count</th>\n",
       "      <td>270.000000</td>\n",
       "      <td>270.000000</td>\n",
       "      <td>270.000000</td>\n",
       "      <td>270.000000</td>\n",
       "      <td>270.000000</td>\n",
       "      <td>270.000000</td>\n",
       "      <td>270.000000</td>\n",
       "      <td>270.000000</td>\n",
       "      <td>270.000000</td>\n",
       "      <td>270.00000</td>\n",
       "      <td>270.000000</td>\n",
       "      <td>270.000000</td>\n",
       "      <td>270.000000</td>\n",
       "      <td>270.000000</td>\n",
       "    </tr>\n",
       "    <tr>\n",
       "      <th>mean</th>\n",
       "      <td>54.433333</td>\n",
       "      <td>0.677778</td>\n",
       "      <td>3.174074</td>\n",
       "      <td>131.344444</td>\n",
       "      <td>249.659259</td>\n",
       "      <td>0.148148</td>\n",
       "      <td>1.022222</td>\n",
       "      <td>149.677778</td>\n",
       "      <td>0.329630</td>\n",
       "      <td>1.05000</td>\n",
       "      <td>1.585185</td>\n",
       "      <td>0.670370</td>\n",
       "      <td>4.696296</td>\n",
       "      <td>1.444444</td>\n",
       "    </tr>\n",
       "    <tr>\n",
       "      <th>std</th>\n",
       "      <td>9.109067</td>\n",
       "      <td>0.468195</td>\n",
       "      <td>0.950090</td>\n",
       "      <td>17.861608</td>\n",
       "      <td>51.686237</td>\n",
       "      <td>0.355906</td>\n",
       "      <td>0.997891</td>\n",
       "      <td>23.165717</td>\n",
       "      <td>0.470952</td>\n",
       "      <td>1.14521</td>\n",
       "      <td>0.614390</td>\n",
       "      <td>0.943896</td>\n",
       "      <td>1.940659</td>\n",
       "      <td>0.497827</td>\n",
       "    </tr>\n",
       "    <tr>\n",
       "      <th>min</th>\n",
       "      <td>29.000000</td>\n",
       "      <td>0.000000</td>\n",
       "      <td>1.000000</td>\n",
       "      <td>94.000000</td>\n",
       "      <td>126.000000</td>\n",
       "      <td>0.000000</td>\n",
       "      <td>0.000000</td>\n",
       "      <td>71.000000</td>\n",
       "      <td>0.000000</td>\n",
       "      <td>0.00000</td>\n",
       "      <td>1.000000</td>\n",
       "      <td>0.000000</td>\n",
       "      <td>3.000000</td>\n",
       "      <td>1.000000</td>\n",
       "    </tr>\n",
       "    <tr>\n",
       "      <th>25%</th>\n",
       "      <td>48.000000</td>\n",
       "      <td>0.000000</td>\n",
       "      <td>3.000000</td>\n",
       "      <td>120.000000</td>\n",
       "      <td>213.000000</td>\n",
       "      <td>0.000000</td>\n",
       "      <td>0.000000</td>\n",
       "      <td>133.000000</td>\n",
       "      <td>0.000000</td>\n",
       "      <td>0.00000</td>\n",
       "      <td>1.000000</td>\n",
       "      <td>0.000000</td>\n",
       "      <td>3.000000</td>\n",
       "      <td>1.000000</td>\n",
       "    </tr>\n",
       "    <tr>\n",
       "      <th>50%</th>\n",
       "      <td>55.000000</td>\n",
       "      <td>1.000000</td>\n",
       "      <td>3.000000</td>\n",
       "      <td>130.000000</td>\n",
       "      <td>245.000000</td>\n",
       "      <td>0.000000</td>\n",
       "      <td>2.000000</td>\n",
       "      <td>153.500000</td>\n",
       "      <td>0.000000</td>\n",
       "      <td>0.80000</td>\n",
       "      <td>2.000000</td>\n",
       "      <td>0.000000</td>\n",
       "      <td>3.000000</td>\n",
       "      <td>1.000000</td>\n",
       "    </tr>\n",
       "    <tr>\n",
       "      <th>75%</th>\n",
       "      <td>61.000000</td>\n",
       "      <td>1.000000</td>\n",
       "      <td>4.000000</td>\n",
       "      <td>140.000000</td>\n",
       "      <td>280.000000</td>\n",
       "      <td>0.000000</td>\n",
       "      <td>2.000000</td>\n",
       "      <td>166.000000</td>\n",
       "      <td>1.000000</td>\n",
       "      <td>1.60000</td>\n",
       "      <td>2.000000</td>\n",
       "      <td>1.000000</td>\n",
       "      <td>7.000000</td>\n",
       "      <td>2.000000</td>\n",
       "    </tr>\n",
       "    <tr>\n",
       "      <th>max</th>\n",
       "      <td>77.000000</td>\n",
       "      <td>1.000000</td>\n",
       "      <td>4.000000</td>\n",
       "      <td>200.000000</td>\n",
       "      <td>564.000000</td>\n",
       "      <td>1.000000</td>\n",
       "      <td>2.000000</td>\n",
       "      <td>202.000000</td>\n",
       "      <td>1.000000</td>\n",
       "      <td>6.20000</td>\n",
       "      <td>3.000000</td>\n",
       "      <td>3.000000</td>\n",
       "      <td>7.000000</td>\n",
       "      <td>2.000000</td>\n",
       "    </tr>\n",
       "  </tbody>\n",
       "</table>\n",
       "</div>"
      ],
      "text/plain": [
       "              age         sex  chestPainType      RestBP  SerumCholesterol  \\\n",
       "count  270.000000  270.000000     270.000000  270.000000        270.000000   \n",
       "mean    54.433333    0.677778       3.174074  131.344444        249.659259   \n",
       "std      9.109067    0.468195       0.950090   17.861608         51.686237   \n",
       "min     29.000000    0.000000       1.000000   94.000000        126.000000   \n",
       "25%     48.000000    0.000000       3.000000  120.000000        213.000000   \n",
       "50%     55.000000    1.000000       3.000000  130.000000        245.000000   \n",
       "75%     61.000000    1.000000       4.000000  140.000000        280.000000   \n",
       "max     77.000000    1.000000       4.000000  200.000000        564.000000   \n",
       "\n",
       "        FastingBP  RestingECG       MaxHR  ExerciseInduceAgina   Oldepeak  \\\n",
       "count  270.000000  270.000000  270.000000           270.000000  270.00000   \n",
       "mean     0.148148    1.022222  149.677778             0.329630    1.05000   \n",
       "std      0.355906    0.997891   23.165717             0.470952    1.14521   \n",
       "min      0.000000    0.000000   71.000000             0.000000    0.00000   \n",
       "25%      0.000000    0.000000  133.000000             0.000000    0.00000   \n",
       "50%      0.000000    2.000000  153.500000             0.000000    0.80000   \n",
       "75%      0.000000    2.000000  166.000000             1.000000    1.60000   \n",
       "max      1.000000    2.000000  202.000000             1.000000    6.20000   \n",
       "\n",
       "       SlopSTSegment   NoVessels        Thal      Result  \n",
       "count     270.000000  270.000000  270.000000  270.000000  \n",
       "mean        1.585185    0.670370    4.696296    1.444444  \n",
       "std         0.614390    0.943896    1.940659    0.497827  \n",
       "min         1.000000    0.000000    3.000000    1.000000  \n",
       "25%         1.000000    0.000000    3.000000    1.000000  \n",
       "50%         2.000000    0.000000    3.000000    1.000000  \n",
       "75%         2.000000    1.000000    7.000000    2.000000  \n",
       "max         3.000000    3.000000    7.000000    2.000000  "
      ]
     },
     "execution_count": 3,
     "metadata": {},
     "output_type": "execute_result"
    }
   ],
   "source": [
    "raw_data.describe()"
   ]
  },
  {
   "cell_type": "markdown",
   "metadata": {},
   "source": [
    "Creating dataframe without the target (col name = results)"
   ]
  },
  {
   "cell_type": "code",
   "execution_count": 4,
   "metadata": {
    "collapsed": false
   },
   "outputs": [
    {
     "data": {
      "text/plain": [
       "(270, 13)"
      ]
     },
     "execution_count": 4,
     "metadata": {},
     "output_type": "execute_result"
    }
   ],
   "source": [
    "predictors = raw_data.drop([\"Result\"], axis=1)\n",
    "#Shape of the data.\n",
    "predictors.shape"
   ]
  },
  {
   "cell_type": "markdown",
   "metadata": {},
   "source": [
    "Storing target values in new array"
   ]
  },
  {
   "cell_type": "code",
   "execution_count": 5,
   "metadata": {
    "collapsed": true
   },
   "outputs": [],
   "source": [
    "targets = raw_data.Result"
   ]
  },
  {
   "cell_type": "markdown",
   "metadata": {},
   "source": [
    "Splitting data into training and test set 60:40. "
   ]
  },
  {
   "cell_type": "code",
   "execution_count": 6,
   "metadata": {
    "collapsed": false
   },
   "outputs": [],
   "source": [
    "pred_train, pred_test, tar_train, tar_test = train_test_split(predictors, targets, test_size=.4)"
   ]
  },
  {
   "cell_type": "code",
   "execution_count": 7,
   "metadata": {
    "collapsed": false
   },
   "outputs": [
    {
     "name": "stdout",
     "output_type": "stream",
     "text": [
      "(162, 13) (108, 13) (162,) (108,)\n"
     ]
    }
   ],
   "source": [
    "print (pred_train.shape,pred_test.shape,tar_train.shape,tar_test.shape)"
   ]
  },
  {
   "cell_type": "markdown",
   "metadata": {},
   "source": [
    "Defining and fitting the RanfomForest Classifier"
   ]
  },
  {
   "cell_type": "code",
   "execution_count": 10,
   "metadata": {
    "collapsed": false
   },
   "outputs": [],
   "source": [
    "from sklearn.ensemble import RandomForestClassifier\n",
    "clf=RandomForestClassifier(n_estimators=25)\n",
    "clf=clf.fit(pred_train,tar_train)"
   ]
  },
  {
   "cell_type": "markdown",
   "metadata": {},
   "source": [
    "making preditions for the test set. "
   ]
  },
  {
   "cell_type": "code",
   "execution_count": 12,
   "metadata": {
    "collapsed": true
   },
   "outputs": [],
   "source": [
    "predictions=clf.predict(pred_test)"
   ]
  },
  {
   "cell_type": "markdown",
   "metadata": {},
   "source": [
    "Printing the confusion metrics. "
   ]
  },
  {
   "cell_type": "code",
   "execution_count": 13,
   "metadata": {
    "collapsed": false
   },
   "outputs": [
    {
     "data": {
      "text/plain": [
       "array([[57,  0],\n",
       "       [14, 37]])"
      ]
     },
     "execution_count": 13,
     "metadata": {},
     "output_type": "execute_result"
    }
   ],
   "source": [
    "sklearn.metrics.confusion_matrix(tar_test,predictions)"
   ]
  },
  {
   "cell_type": "markdown",
   "metadata": {},
   "source": [
    "**The results shows the model has correctly predicted 57 True Postive and 37 True Negatives. But, there are 14 False predictions all of them are False Negatives **"
   ]
  },
  {
   "cell_type": "code",
   "execution_count": 14,
   "metadata": {
    "collapsed": false
   },
   "outputs": [
    {
     "data": {
      "text/plain": [
       "0.87037037037037035"
      ]
     },
     "execution_count": 14,
     "metadata": {},
     "output_type": "execute_result"
    }
   ],
   "source": [
    "sklearn.metrics.accuracy_score(tar_test, predictions)"
   ]
  },
  {
   "cell_type": "markdown",
   "metadata": {},
   "source": [
    "** Overall accurace of the model is around 87%. **"
   ]
  },
  {
   "cell_type": "code",
   "execution_count": 17,
   "metadata": {
    "collapsed": false
   },
   "outputs": [
    {
     "name": "stdout",
     "output_type": "stream",
     "text": [
      "[ 0.07906407  0.03976226  0.09270595  0.06406752  0.06693677  0.025708\n",
      "  0.05645695  0.07426804  0.08421052  0.09184172  0.05829678  0.10194313\n",
      "  0.1647383 ]\n"
     ]
    }
   ],
   "source": [
    "# fit an Extra Trees model to the data\n",
    "model = ExtraTreesClassifier()\n",
    "model.fit(pred_train,tar_train)\n",
    "# display the relative importance of each attribute\n",
    "print(model.feature_importances_)"
   ]
  },
  {
   "cell_type": "markdown",
   "metadata": {},
   "source": [
    "** Below you can see the table with importance of each feature.**\n",
    "<a id='imp'></a>\n"
   ]
  },
  {
   "cell_type": "code",
   "execution_count": 61,
   "metadata": {
    "collapsed": false
   },
   "outputs": [
    {
     "data": {
      "text/html": [
       "<div>\n",
       "<table border=\"1\" class=\"dataframe\">\n",
       "  <thead>\n",
       "    <tr style=\"text-align: right;\">\n",
       "      <th></th>\n",
       "      <th>age</th>\n",
       "      <th>sex</th>\n",
       "      <th>chestPainType</th>\n",
       "      <th>RestBP</th>\n",
       "      <th>SerumCholesterol</th>\n",
       "      <th>FastingBP</th>\n",
       "      <th>RestingECG</th>\n",
       "      <th>MaxHR</th>\n",
       "      <th>ExerciseInduceAgina</th>\n",
       "      <th>Oldepeak</th>\n",
       "      <th>SlopSTSegment</th>\n",
       "      <th>NoVessels</th>\n",
       "      <th>Thal</th>\n",
       "    </tr>\n",
       "  </thead>\n",
       "  <tbody>\n",
       "    <tr>\n",
       "      <th>0</th>\n",
       "      <td>0.079064</td>\n",
       "      <td>0.039762</td>\n",
       "      <td>0.092706</td>\n",
       "      <td>0.064068</td>\n",
       "      <td>0.066937</td>\n",
       "      <td>0.025708</td>\n",
       "      <td>0.056457</td>\n",
       "      <td>0.074268</td>\n",
       "      <td>0.084211</td>\n",
       "      <td>0.091842</td>\n",
       "      <td>0.058297</td>\n",
       "      <td>0.101943</td>\n",
       "      <td>0.164738</td>\n",
       "    </tr>\n",
       "  </tbody>\n",
       "</table>\n",
       "</div>"
      ],
      "text/plain": [
       "        age       sex  chestPainType    RestBP  SerumCholesterol  FastingBP  \\\n",
       "0  0.079064  0.039762       0.092706  0.064068          0.066937   0.025708   \n",
       "\n",
       "   RestingECG     MaxHR  ExerciseInduceAgina  Oldepeak  SlopSTSegment  \\\n",
       "0    0.056457  0.074268             0.084211  0.091842       0.058297   \n",
       "\n",
       "   NoVessels      Thal  \n",
       "0   0.101943  0.164738  "
      ]
     },
     "execution_count": 61,
     "metadata": {},
     "output_type": "execute_result"
    }
   ],
   "source": [
    "ListofPredictors = list(predictors)\n",
    "ListofPredictors = np.array(ListofPredictors)\n",
    "k = np.array(model.feature_importances_)\n",
    "\n",
    "df = pd.DataFrame(data=[k], columns=ListofPredictors)\n",
    "df"
   ]
  },
  {
   "cell_type": "markdown",
   "metadata": {},
   "source": [
    "# Running RandomForest Classifier with series of different no. of Trees."
   ]
  },
  {
   "cell_type": "code",
   "execution_count": 69,
   "metadata": {
    "collapsed": false
   },
   "outputs": [
    {
     "data": {
      "text/plain": [
       "<matplotlib.text.Text at 0x27216f5f828>"
      ]
     },
     "execution_count": 69,
     "metadata": {},
     "output_type": "execute_result"
    },
    {
     "data": {
      "image/png": "[encoded data removed]",
      "text/plain": [
       "<matplotlib.figure.Figure at 0x27216e73eb8>"
      ]
     },
     "metadata": {},
     "output_type": "display_data"
    }
   ],
   "source": [
    "\"\"\"\n",
    "Running a different number of trees and see the effect\n",
    " of that on the accuracy of the prediction\n",
    "\"\"\"\n",
    "\n",
    "trees=range(50)\n",
    "accuracy=np.zeros(50)\n",
    "\n",
    "for idx in range(len(trees)):\n",
    "   classifier=RandomForestClassifier(n_estimators=idx + 1)\n",
    "   classifier=classifier.fit(pred_train,tar_train)\n",
    "   predictions=classifier.predict(pred_test)\n",
    "   accuracy[idx]=sklearn.metrics.accuracy_score(tar_test, predictions)\n",
    "\n",
    "plt.cla()\n",
    "plt.plot(trees, accuracy)\n",
    "plt.xlabel ('No. of Trees', fontsize='large')\n",
    "plt.ylabel('Accuracy', fontsize='large')\n",
    "plt.title('Accuracy vs No. of Trees')\n",
    "\n",
    "\n"
   ]
  },
  {
   "cell_type": "code",
   "execution_count": 70,
   "metadata": {
    "collapsed": false
   },
   "outputs": [
    {
     "name": "stdout",
     "output_type": "stream",
     "text": [
      "0.898148148148\n"
     ]
    }
   ],
   "source": [
    "print (accuracy.max())"
   ]
  },
  {
   "cell_type": "code",
   "execution_count": 71,
   "metadata": {
    "collapsed": false
   },
   "outputs": [
    {
     "name": "stdout",
     "output_type": "stream",
     "text": [
      "0.836481481481\n"
     ]
    }
   ],
   "source": [
    "print (accuracy.mean())"
   ]
  },
  {
   "cell_type": "markdown",
   "metadata": {
    "collapsed": true
   },
   "source": [
    "# Interpretation\n",
    "\n",
    "In these set of analysis Randomforest methodology was used to examine the importance set of variable/descriptors in predicting heart disease. The set of descriptor use in these calculations are decribed at the start of the post. \n",
    "\n",
    "It is worth noting that when RandomForest model with only 25 trees were built the accuracy of model was only 87%. But when the model was built with 50 trees the accuracy of the model was increase to 89%. \n",
    "\n",
    "The most important feature [here](#imp) is Tallasimia in the patient followed by No. blocked vessels. \n",
    "\n"
   ]
  },
  {
   "cell_type": "code",
   "execution_count": null,
   "metadata": {
    "collapsed": true
   },
   "outputs": [],
   "source": []
  }
 ],
 "metadata": {
  "kernelspec": {
   "display_name": "Python 3",
   "language": "python",
   "name": "python3"
  },
  "language_info": {
   "codemirror_mode": {
    "name": "ipython",
    "version": 3
   },
   "file_extension": ".py",
   "mimetype": "text/x-python",
   "name": "python",
   "nbconvert_exporter": "python",
   "pygments_lexer": "ipython3",
   "version": "3.6.0"
  }
 },
 "nbformat": 4,
 "nbformat_minor": 2
}
